{
 "cells": [
  {
   "cell_type": "code",
   "execution_count": null,
   "id": "e7ffbecc-59e8-4f43-aa11-0929d7d88066",
   "metadata": {
    "id": "e7ffbecc-59e8-4f43-aa11-0929d7d88066"
   },
   "outputs": [],
   "source": [
    "# all neccesary imports\n",
    "import re\n",
    "\n",
    "import pandas as pd\n",
    "import matplotlib.pyplot as plt\n",
    "import seaborn as sns\n",
    "\n",
    "import nltk\n",
    "from nltk.sentiment import SentimentIntensityAnalyzer\n",
    "from nltk.tokenize import word_tokenize\n",
    "from nltk.probability import FreqDist"
   ]
  },
  {
   "cell_type": "code",
   "execution_count": null,
   "id": "4668994c",
   "metadata": {},
   "outputs": [],
   "source": [
    "#to download nltk dependencies\n",
    "nltk.download('all')"
   ]
  },
  {
   "cell_type": "code",
   "execution_count": null,
   "id": "d0f5c89d-1dd2-412b-aa16-8e40d3c05ea9",
   "metadata": {
    "id": "d0f5c89d-1dd2-412b-aa16-8e40d3c05ea9"
   },
   "outputs": [],
   "source": [
    "df = pd.read_csv('../data/raw_analyst_ratings.csv')"
   ]
  },
  {
   "cell_type": "code",
   "execution_count": null,
   "id": "mVQiA7VRM2Bj",
   "metadata": {
    "id": "mVQiA7VRM2Bj"
   },
   "outputs": [],
   "source": [
    "df.head(5)"
   ]
  },
  {
   "cell_type": "code",
   "execution_count": null,
   "id": "af20e1f6-78e7-4abf-86f1-a9a8ab5c1b63",
   "metadata": {
    "id": "af20e1f6-78e7-4abf-86f1-a9a8ab5c1b63"
   },
   "outputs": [],
   "source": [
    "# Head Line Length\n",
    "df['headline_len'] = len(df['headline'])"
   ]
  },
  {
   "cell_type": "code",
   "execution_count": null,
   "id": "20cc07ae-7e9f-402e-bd20-2270abfeabd6",
   "metadata": {
    "colab": {
     "base_uri": "https://localhost:8080/"
    },
    "id": "20cc07ae-7e9f-402e-bd20-2270abfeabd6",
    "outputId": "91b7698e-fdce-46f9-ec93-a7fa2f0e4ce4"
   },
   "outputs": [],
   "source": [
    "headline_stats = df['headline_len'].describe()\n",
    "print(\"\\n\\tHeadline Stats:\\n\")\n",
    "headline_stats"
   ]
  },
  {
   "cell_type": "code",
   "execution_count": null,
   "id": "52506634-2b0b-4bcd-a9fc-080ae36b92eb",
   "metadata": {
    "colab": {
     "base_uri": "https://localhost:8080/",
     "height": 527
    },
    "id": "52506634-2b0b-4bcd-a9fc-080ae36b92eb",
    "outputId": "ffe81d7a-caf1-443b-ec2e-2b2500632e30"
   },
   "outputs": [],
   "source": [
    "# Articles Per Publisher\n",
    "pub_counts = df['publisher'].value_counts().head(10)\n",
    "\n",
    "print(\"\\n\\tArticles per publisher:\\n\")\n",
    "\n",
    "plt.figure(figsize=(5,3))\n",
    "pub_counts.plot(kind ='bar')\n",
    "plt.title(\"Top 10 publishers \")\n",
    "plt.xlabel(\"publishers\")\n",
    "plt.xlabel(\"Publishers\")\n",
    "plt.ylabel(\"Number of Articles\")"
   ]
  },
  {
   "cell_type": "code",
   "execution_count": null,
   "id": "e1520bf2-82b0-4a3d-a5b9-5c47486f0ccd",
   "metadata": {
    "id": "e1520bf2-82b0-4a3d-a5b9-5c47486f0ccd"
   },
   "outputs": [],
   "source": [
    "# changing date column into datetime format\n",
    "df['date'] = pd.to_datetime(df['date'] , format = 'mixed' , utc = True)\n",
    "\n",
    "df['day_of_week']= df['date'].dt.day_name()\n",
    "df['monthly'] = df['date'].dt.month_name()\n",
    "df['yearly'] = df['date'].dt.year"
   ]
  },
  {
   "cell_type": "code",
   "execution_count": null,
   "id": "b8eee4b8-744f-4474-a1d7-e65da669e691",
   "metadata": {
    "colab": {
     "base_uri": "https://localhost:8080/"
    },
    "id": "b8eee4b8-744f-4474-a1d7-e65da669e691",
    "outputId": "5f2e62bd-8096-4df0-ddad-4f2690cb7af0"
   },
   "outputs": [],
   "source": [
    "pub_week_days = df['day_of_week'].value_counts()\n",
    "pub_month = df['monthly'].value_counts()\n",
    "pub_year = df['yearly'].value_counts()\n",
    "\n",
    "\n",
    "print(\"\\nArticles per Day of the Week:\")\n",
    "print(pub_week_days)\n",
    "\n",
    "print(\"\\nArticles per Month:\")\n",
    "print(pub_month)\n",
    "\n",
    "print(\"\\nArticles per Year:\")\n",
    "print(pub_year)"
   ]
  },
  {
   "cell_type": "code",
   "execution_count": null,
   "id": "bbaccdb8-abee-49fb-84ee-e156ae216ee2",
   "metadata": {
    "id": "bbaccdb8-abee-49fb-84ee-e156ae216ee2"
   },
   "outputs": [],
   "source": [
    "# sentiment analysis\n",
    "sia = SentimentIntensityAnalyzer()\n",
    "df['sentiment'] = df['headline'].apply(lambda x: sia.polarity_scores(x)['compound'])\n",
    "df['sentiment_category'] = df['sentiment'].apply(lambda x: 'positive' if x > 0 else ('negative' if x < 0 else 'neutral'))"
   ]
  },
  {
   "cell_type": "code",
   "execution_count": null,
   "id": "a8ab82fb-7b50-4330-8f7f-0fbcd95a4226",
   "metadata": {
    "colab": {
     "base_uri": "https://localhost:8080/",
     "height": 363
    },
    "id": "a8ab82fb-7b50-4330-8f7f-0fbcd95a4226",
    "outputId": "58281473-671b-44a7-b334-2732d134eecf"
   },
   "outputs": [],
   "source": [
    "df[['headline','sentiment_category']].head(10)"
   ]
  },
  {
   "cell_type": "code",
   "execution_count": null,
   "id": "70f4b9e6-4dc6-4cec-bdf3-6bbdda05415b",
   "metadata": {
    "colab": {
     "base_uri": "https://localhost:8080/",
     "height": 616
    },
    "id": "70f4b9e6-4dc6-4cec-bdf3-6bbdda05415b",
    "outputId": "ab750bc8-5bbe-40cf-b7af-ba8623bcd1ce"
   },
   "outputs": [],
   "source": [
    "print('\\n\\tVisualizing The sentiment result\\n')\n",
    "\n",
    "plt.figure(figsize=(10, 6))\n",
    "sns.countplot(x='sentiment_category', data=df)\n",
    "plt.title('Sentiment Analysis of Headlines')\n",
    "plt.xlabel('Sentiment')\n",
    "plt.ylabel('Count')\n",
    "plt.show()\n"
   ]
  },
  {
   "cell_type": "code",
   "execution_count": null,
   "id": "znSEDgv3asTZ",
   "metadata": {
    "colab": {
     "base_uri": "https://localhost:8080/"
    },
    "id": "znSEDgv3asTZ",
    "outputId": "95564346-aff1-4c5b-ad32-c3ea7546c622"
   },
   "outputs": [],
   "source": [
    "#all tokens from the headlines\n",
    "tokens = [word_tokenize(headline) for headline in df['headline']]\n",
    "\n",
    "# Flatten the list of tokens\n",
    "flat_tokens = [token for sublist in tokens for token in sublist]\n",
    "\n",
    "# Create a frequency distribution of the tokens\n",
    "freq_dist = FreqDist(flat_tokens)\n",
    "\n",
    "print(\"\\n\\tMost Common Tokens:\")\n",
    "for word, frequency in freq_dist.most_common(10):\n",
    "    print(f\"{word}: {frequency}\")\n",
    "\n",
    "# Identify bigrams and trigrams\n",
    "bigrams = nltk.bigrams(flat_tokens)\n",
    "trigrams = nltk.trigrams(flat_tokens)\n",
    "\n",
    "#frequency distributions for bigrams and trigrams\n",
    "bigram_freq_dist = FreqDist(bigrams)\n",
    "trigram_freq_dist = FreqDist(trigrams)\n",
    "\n",
    "# Print the most common bigrams and trigrams\n",
    "print(\"\\n\\tMost Common Bigrams:\")\n",
    "for bigram, frequency in bigram_freq_dist.most_common(10):\n",
    "    print(f\"{bigram}: {frequency}\")\n",
    "\n",
    "print(\"\\n\\tMost Common Trigrams:\")\n",
    "for trigram, frequency in trigram_freq_dist.most_common(10):\n",
    "    print(f\"{trigram}: {frequency}\")\n"
   ]
  },
  {
   "cell_type": "code",
   "execution_count": null,
   "id": "eH1sdJX72FBl",
   "metadata": {
    "colab": {
     "base_uri": "https://localhost:8080/",
     "height": 1000
    },
    "id": "eH1sdJX72FBl",
    "outputId": "c10c5bd3-cef3-4b9c-af3f-f36b904d0aeb"
   },
   "outputs": [],
   "source": [
    "\n",
    "df['date'] = pd.to_datetime(df['date'] , format = 'mixed' , utc = True)\n",
    "\n",
    "df['year'] = df['date'].dt.year\n",
    "df['month'] = df['date'].dt.month\n",
    "df['day'] = df['date'].dt.day\n",
    "df['weekday'] = df['date'].dt.weekday\n",
    "\n",
    "# Group by year and count the number of articles published\n",
    "articles_per_year = df.groupby('year')['headline'].count()\n",
    "\n",
    "# Plot the number of articles published per year\n",
    "plt.figure(figsize=(5, 3))\n",
    "articles_per_year.plot(kind='bar')\n",
    "plt.title('Articles Published per Year')\n",
    "plt.xlabel('Year')\n",
    "plt.ylabel('Number of Articles')\n",
    "plt.show()\n",
    "\n",
    "# Group by month and count the number of articles published\n",
    "articles_per_month = df.groupby('month')['headline'].count()\n",
    "\n",
    "# Plot the number of articles published per month\n",
    "plt.figure(figsize=(10, 6))\n",
    "articles_per_month.plot(kind='bar')\n",
    "plt.title('Articles Published per Month')\n",
    "plt.xlabel('Month')\n",
    "plt.ylabel('Number of Articles')\n",
    "plt.show()\n",
    "\n",
    "# Group by day of the week and count the number of articles published\n",
    "articles_per_weekday = df.groupby('weekday')['headline'].count()\n",
    "\n",
    "# Plot the number of articles published per day of the week\n",
    "plt.figure(figsize=(10, 6))\n",
    "articles_per_weekday.plot(kind='bar')\n",
    "plt.title('Articles Published per Day of the Week')\n",
    "plt.xlabel('Day of the Week')\n",
    "plt.ylabel('Number of Articles')\n",
    "plt.show()"
   ]
  },
  {
   "cell_type": "code",
   "execution_count": null,
   "id": "qQzNSB_N47-O",
   "metadata": {
    "colab": {
     "base_uri": "https://localhost:8080/",
     "height": 458
    },
    "id": "qQzNSB_N47-O",
    "outputId": "dd08a9b2-3d93-4373-b6b2-f41964875d8b"
   },
   "outputs": [],
   "source": [
    "# Most article publishers\n",
    "top_publishers = df['publisher'].value_counts().head(5)\n",
    "plt.figure(figsize=(5,3))\n",
    "top_publishers.plot(kind = 'bar')\n",
    "plt.title('Top 5 most Article Publishers ')\n",
    "plt.xlabel('Publishers')\n",
    "plt.ylabel('number of articles')\n",
    "plt.show()"
   ]
  },
  {
   "cell_type": "code",
   "execution_count": null,
   "id": "BuCrZumi7c0h",
   "metadata": {
    "colab": {
     "base_uri": "https://localhost:8080/",
     "height": 620
    },
    "id": "BuCrZumi7c0h",
    "outputId": "042d0ba2-e8f8-4785-942f-d809033b21dd"
   },
   "outputs": [],
   "source": [
    "publisher_sentiment = df.groupby('publisher')['sentiment_category'].value_counts().head(50)\n",
    "\n",
    "# print(publisher_sentiment\n",
    "\n",
    "plt.figure(figsize=(10,6))\n",
    "publisher_sentiment.unstack().plot(kind = 'bar')\n",
    "plt.title('sentiment Analysis by publishers Publishers ')\n",
    "plt.xlabel('Publishers')\n",
    "plt.ylabel('number of articles')\n",
    "plt.show()"
   ]
  },
  {
   "cell_type": "code",
   "execution_count": null,
   "id": "Z2UZ6bUt4Yc4",
   "metadata": {
    "colab": {
     "base_uri": "https://localhost:8080/",
     "height": 656
    },
    "id": "Z2UZ6bUt4Yc4",
    "outputId": "9380f73f-2602-40b9-879d-64b4a05eae54"
   },
   "outputs": [],
   "source": [
    "\n",
    "#email domains from publisher names\n",
    "publisher_domains=[]\n",
    "for publisher in df['publisher']:\n",
    "  match= re.search(r'@(.*)',publisher)\n",
    "  if match:\n",
    "    publisher_domains.append(match.group(1))\n",
    "\n",
    "# Count the frequency of each domain\n",
    "domain_counts = pd.Series(publisher_domains).value_counts()\n",
    "\n",
    "# top 5 domains with the most articles\n",
    "top_domains = domain_counts.head(5)\n",
    "\n",
    "# Plot the number of articles for the top 5 domains\n",
    "plt.figure(figsize=(10, 6))\n",
    "top_domains.plot(kind='bar')\n",
    "plt.title('Top 5 Domains with the Most Articles')\n",
    "plt.xlabel('Domain')\n",
    "plt.ylabel('Number of Articles')\n",
    "plt.show()\n"
   ]
  },
  {
   "cell_type": "code",
   "execution_count": null,
   "id": "L_9UUMeCcd0M",
   "metadata": {
    "id": "L_9UUMeCcd0M"
   },
   "outputs": [],
   "source": []
  }
 ],
 "metadata": {
  "accelerator": "GPU",
  "colab": {
   "gpuType": "T4",
   "provenance": []
  },
  "kernelspec": {
   "display_name": "Python 3 (ipykernel)",
   "language": "python",
   "name": "python3"
  },
  "language_info": {
   "codemirror_mode": {
    "name": "ipython",
    "version": 3
   },
   "file_extension": ".py",
   "mimetype": "text/x-python",
   "name": "python",
   "nbconvert_exporter": "python",
   "pygments_lexer": "ipython3",
   "version": "3.10.12"
  }
 },
 "nbformat": 4,
 "nbformat_minor": 5
}
