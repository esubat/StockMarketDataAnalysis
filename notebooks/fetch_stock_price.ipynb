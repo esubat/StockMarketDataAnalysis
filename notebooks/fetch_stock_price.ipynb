{
 "cells": [
  {
   "cell_type": "code",
   "execution_count": null,
   "metadata": {
    "id": "LaKkQMuGuaAw"
   },
   "outputs": [],
   "source": [
    "import pandas as pd\n",
    "\n",
    "import yfinance as yf"
   ]
  },
  {
   "cell_type": "code",
   "execution_count": null,
   "metadata": {
    "id": "5tV_9MQYvr6K"
   },
   "outputs": [],
   "source": [
    "df = pd.read_csv('../data/raw_analyst_ratings.csv')"
   ]
  },
  {
   "cell_type": "code",
   "execution_count": null,
   "metadata": {
    "id": "sq_An1SXwaIx"
   },
   "outputs": [],
   "source": [
    "df = df[['date','stock']]"
   ]
  },
  {
   "cell_type": "code",
   "execution_count": null,
   "metadata": {
    "colab": {
     "base_uri": "https://localhost:8080/",
     "height": 206
    },
    "id": "Z1YnZztRxaeH",
    "outputId": "583ab801-4452-4dcc-c398-45ce2e7fe9c9"
   },
   "outputs": [],
   "source": [
    "df.head()"
   ]
  },
  {
   "cell_type": "code",
   "execution_count": null,
   "metadata": {
    "colab": {
     "base_uri": "https://localhost:8080/"
    },
    "id": "vTEEbe6HjPDG",
    "outputId": "e889cb33-8716-4c65-a030-7bf7eeaaa51d"
   },
   "outputs": [],
   "source": [
    "df['stock'].value_counts()"
   ]
  },
  {
   "cell_type": "code",
   "execution_count": null,
   "metadata": {
    "id": "XW_ImMJ_xjnz"
   },
   "outputs": [],
   "source": [
    "# changing the date column into datetime format\n",
    "df['date'] = pd.to_datetime(df['date'] ,format='mixed', utc=True)"
   ]
  },
  {
   "cell_type": "code",
   "execution_count": null,
   "metadata": {
    "id": "nIrEsYDI1WwO"
   },
   "outputs": [],
   "source": [
    "# Calculate the earliest and latest date for each stock\n",
    "df_min_max_dates = df.groupby('stock')['date'].agg(['min', 'max']).reset_index()\n",
    "\n",
    "#download stock data for each stock\n",
    "# add 'stock' column to indicate which stock the data belong to\n",
    "stock_data = pd.DataFrame()\n",
    "for i, row in df_min_max_dates.iterrows():\n",
    "    stock = row['stock']\n",
    "    start_date = row['min']\n",
    "    end_date = row['max']\n",
    "    temp_stock_data= yf.download(stock, start=start_date, end=end_date)\n",
    "    temp_stock_data['stock'] = stock\n",
    "    stock_data = pd.concat([stock_data, temp_stock_data])\n",
    "\n",
    "# saving downloaded data into csv file\n",
    "stock_data.to_csv(f'/content/drive/MyDrive/aim-data/stock_price_data.csv')"
   ]
  },
  {
   "cell_type": "code",
   "execution_count": null,
   "metadata": {
    "id": "bBxajNfTcy6h"
   },
   "outputs": [],
   "source": [
    "# Load the dataset to test\n",
    "price_df =pd.read_csv('../data/stock_price_data.csv')"
   ]
  },
  {
   "cell_type": "code",
   "execution_count": null,
   "metadata": {
    "id": "bDjog36fdj-J"
   },
   "outputs": [],
   "source": [
    "stock_price_df = price_df['stock'].value_counts()"
   ]
  },
  {
   "cell_type": "code",
   "execution_count": null,
   "metadata": {
    "colab": {
     "base_uri": "https://localhost:8080/"
    },
    "id": "J-0-HLgkWvUX",
    "outputId": "60181384-af2a-452b-db6a-4ca01890bbe4"
   },
   "outputs": [],
   "source": [
    "stock_price_df.head()"
   ]
  }
 ],
 "metadata": {
  "colab": {
   "provenance": []
  },
  "kernelspec": {
   "display_name": "Python 3 (ipykernel)",
   "language": "python",
   "name": "python3"
  },
  "language_info": {
   "codemirror_mode": {
    "name": "ipython",
    "version": 3
   },
   "file_extension": ".py",
   "mimetype": "text/x-python",
   "name": "python",
   "nbconvert_exporter": "python",
   "pygments_lexer": "ipython3",
   "version": "3.10.12"
  }
 },
 "nbformat": 4,
 "nbformat_minor": 4
}
